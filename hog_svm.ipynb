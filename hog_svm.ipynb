{
 "cells": [
  {
   "cell_type": "code",
   "execution_count": 1,
   "metadata": {},
   "outputs": [
    {
     "name": "stderr",
     "output_type": "stream",
     "text": [
      "c:\\users\\piter\\appdata\\local\\programs\\python\\python37\\lib\\site-packages\\sklearn\\externals\\joblib\\__init__.py:15: FutureWarning: sklearn.externals.joblib is deprecated in 0.21 and will be removed in 0.23. Please import this functionality directly from joblib, which can be installed with: pip install joblib. If this warning is raised when loading pickled models, you may need to re-serialize those models with scikit-learn 0.21+.\n",
      "  warnings.warn(msg, category=FutureWarning)\n"
     ]
    }
   ],
   "source": [
    "import os\n",
    "import glob\n",
    "import pandas as pd  # as means that we use pandas library short form  as pd\n",
    "import cv2\n",
    "import numpy as np\n",
    "import matplotlib\n",
    "import skimage \n",
    "import sklearn\n",
    "from matplotlib import pyplot as plt # matplotlib is big library, we are just calling pyplot function \n",
    "                                    # for showing images\n",
    "from skimage.feature import hog #We are calling only hog  \n",
    "\n",
    "from sklearn.decomposition import PCA # Calling the PCA funtion from sklearn\n",
    "from sklearn.svm import SVC # # Calling the SVM function from sklearn\n",
    "from sklearn.externals import joblib # Calling the joblib function from sklearn, use for model saving \n",
    "                                     # and loading."
   ]
  },
  {
   "cell_type": "code",
   "execution_count": 2,
   "metadata": {},
   "outputs": [
    {
     "name": "stdout",
     "output_type": "stream",
     "text": [
      "Pandas Version:  0.24.2\n",
      "OpenCv Version:  4.1.2\n",
      "Numpy Version:  1.16.3\n",
      "Matplotlib Version:  3.1.2\n",
      "skimage Version:  0.16.2\n",
      "sklearn Version:  0.22.1\n"
     ]
    }
   ],
   "source": [
    "print ('Pandas Version: ',pd.__version__)\n",
    "print ('OpenCv Version: ',cv2.__version__)\n",
    "print ('Numpy Version: ',np.__version__)\n",
    "print ('Matplotlib Version: ',matplotlib.__version__)\n",
    "print ('skimage Version: ',skimage.__version__)\n",
    "print ('sklearn Version: ',sklearn.__version__)"
   ]
  },
  {
   "cell_type": "code",
   "execution_count": 3,
   "metadata": {},
   "outputs": [],
   "source": [
    "def load_paths(directory):\n",
    "    paths = []\n",
    "    for files in os.listdir(directory):\n",
    "        paths.append(directory+'/'+files)\n",
    "    return paths"
   ]
  },
  {
   "cell_type": "code",
   "execution_count": 4,
   "metadata": {},
   "outputs": [],
   "source": [
    "def images_to_hog(directory): # function defining that can be call for both test and training\n",
    "    paths = load_paths(directory)\n",
    "    Features=[]\n",
    "    Labels=[]\n",
    "    imgs = []\n",
    "    for path in paths:\n",
    "        img_paths = load_paths(path)\n",
    "        label = path.split(\"/\")[-1]      \n",
    "        for img_path in img_paths:\n",
    "            img = cv2.imread(img_path)\n",
    "            img = cv2.cvtColor(img, cv2.COLOR_BGR2GRAY)\n",
    "            img = cv2.medianBlur(img, 3)\n",
    "            img = cv2.resize(img, (64, 64))\n",
    "            ret, img = cv2.threshold(img, 127, 255, cv2.THRESH_BINARY)\n",
    "            imgs.append(img)\n",
    "            discripter = hog(img, orientations=8, pixels_per_cell=(4,4))         \n",
    "            Features.append(discripter)\n",
    "            Labels.append(label)\n",
    "    Labels=np.array(Labels)\n",
    "    return Features,Labels, imgs"
   ]
  },
  {
   "cell_type": "code",
   "execution_count": 5,
   "metadata": {},
   "outputs": [],
   "source": [
    "directory = 'dataset/training_set'\n",
    "Features_Training,Labels_Training,imgs = images_to_hog(directory)\n"
   ]
  },
  {
   "cell_type": "code",
   "execution_count": 6,
   "metadata": {},
   "outputs": [],
   "source": [
    "# for img in imgs:\n",
    "#     cv2.imshow(\"ss\", img)\n",
    "#     cv2.waitKey(0)"
   ]
  },
  {
   "cell_type": "code",
   "execution_count": 7,
   "metadata": {},
   "outputs": [],
   "source": [
    "# print ('Training HOG output Features shape : ',Features_Training.shape)\n",
    "# print ('Training HOG output Labels shape: ',Labels_Training.shape)"
   ]
  },
  {
   "cell_type": "code",
   "execution_count": 6,
   "metadata": {},
   "outputs": [],
   "source": [
    "Test_Images_Directory='dataset/test_set'\n",
    "Features_Testing,Labels_Testing, ttt = images_to_hog(Test_Images_Directory)\n",
    "\n",
    "# for img in ttt:\n",
    "#     cv2.imshow(\"ss\", img)\n",
    "#     cv2.waitKey(0)"
   ]
  },
  {
   "cell_type": "code",
   "execution_count": 7,
   "metadata": {},
   "outputs": [
    {
     "name": "stdout",
     "output_type": "stream",
     "text": [
      "270\n"
     ]
    }
   ],
   "source": [
    "print (len(Features_Testing))"
   ]
  },
  {
   "cell_type": "code",
   "execution_count": 8,
   "metadata": {},
   "outputs": [
    {
     "name": "stdout",
     "output_type": "stream",
     "text": [
      "New Train Dataset shape after PCA:  (702, 40)\n",
      "New Test Dataset shape after PCA:  (270, 40)\n"
     ]
    }
   ],
   "source": [
    "pca = PCA(n_components = 40)\n",
    "X_train = pca.fit_transform(Features_Training)\n",
    "X_test = pca.transform(Features_Testing)\n",
    "\n",
    "print ('New Train Dataset shape after PCA: ',X_train.shape)\n",
    "print ('New Test Dataset shape after PCA: ',X_test.shape)"
   ]
  },
  {
   "cell_type": "code",
   "execution_count": 10,
   "metadata": {},
   "outputs": [
    {
     "name": "stdout",
     "output_type": "stream",
     "text": [
      "SVM Mean Accuracy of Training dataset:  0.9401709401709402\n",
      "SVM Mean Accuracy of Test dataset:  0.9407407407407408\n"
     ]
    }
   ],
   "source": [
    "classifier=SVC(kernel='rbf',gamma='scale') # Calling the function SVC to implement SVM\n",
    "classifier.fit(X_train,Labels_Training) # Training the Classifier on Train date\n",
    "\n",
    "print ('SVM Mean Accuracy of Training dataset: ',classifier.score(X_train,Labels_Training))\n",
    "print ('SVM Mean Accuracy of Test dataset: ',classifier.score(X_test,Labels_Testing))"
   ]
  },
  {
   "cell_type": "code",
   "execution_count": 11,
   "metadata": {},
   "outputs": [
    {
     "data": {
      "text/plain": [
       "['pca_and_svm/svm_rbf_scale.pkl']"
      ]
     },
     "execution_count": 11,
     "metadata": {},
     "output_type": "execute_result"
    }
   ],
   "source": [
    "joblib.dump(pca, 'pca_and_svm/pca_40.pkl') # joblib.dump Persist an arbitrary Python object into one file\n",
    "joblib.dump(classifier, 'pca_and_svm/svm_rbf_scale.pkl') "
   ]
  },
  {
   "cell_type": "code",
   "execution_count": 13,
   "metadata": {},
   "outputs": [],
   "source": [
    "pca = joblib.load('pca_and_svm/pca_40.pkl')\n",
    "classifier = joblib.load('pca_and_svm/svm_rbf_scale.pkl')\n",
    "\n",
    "image_number=100"
   ]
  },
  {
   "cell_type": "code",
   "execution_count": 14,
   "metadata": {},
   "outputs": [
    {
     "name": "stdout",
     "output_type": "stream",
     "text": [
      "Reading Image from Path:  image_and_video/0.jpg\n"
     ]
    },
    {
     "data": {
      "image/png": "[encoded data removed]",
      "text/plain": [
       "<Figure size 720x720 with 3 Axes>"
      ]
     },
     "metadata": {
      "needs_background": "light"
     },
     "output_type": "display_data"
    },
    {
     "name": "stdout",
     "output_type": "stream",
     "text": [
      "Predicted Class:  STOP\n"
     ]
    },
    {
     "data": {
      "text/plain": [
       "<Figure size 432x288 with 0 Axes>"
      ]
     },
     "metadata": {},
     "output_type": "display_data"
    }
   ],
   "source": [
    "from skimage.exposure import exposure #for displaying th hog image.\n",
    "\n",
    "img_path='image_and_video/0.jpg'\n",
    "print ('Reading Image from Path: ',img_path)\n",
    "img = cv2.imread(img_path)\n",
    "img0=cv2.cvtColor(img, cv2.COLOR_BGR2GRAY)\n",
    "img0 = cv2.medianBlur(img0,3)\n",
    "\n",
    "crop_image0=cv2.resize(img0, (64, 64))\n",
    "\n",
    "# Apply Hog from skimage library it takes image as crop image.Number of orientation bins that gradient\n",
    "# need to calculate.\n",
    "ret,crop_image0 = cv2.threshold(crop_image0,127,255,cv2.THRESH_BINARY)\n",
    "descriptor,imagehog  = hog(crop_image0, orientations=8,pixels_per_cell=(4,4),visualize=True)\n",
    "\n",
    "\n",
    "# descriptor,imagehog = hog(crop_image0, orientations=8, visualize=True)\n",
    "descriptor_pca=pca.transform(descriptor.reshape(1,-1))\n",
    "\n",
    "# Initilize the 3 axis so that we can plot side by side\n",
    "fig, (ax1, ax2,ax3) = plt.subplots(1, 3, figsize=(10, 10), sharex=True, sharey=True)\n",
    "\n",
    "#ploting crop image\n",
    "ax1.axis('off')\n",
    "ax1.imshow(cv2.cvtColor(crop_image0,cv2.COLOR_BGR2RGB), cmap=plt.cm.gray)\n",
    "ax1.set_title('Crop image')\n",
    "\n",
    "# Rescale histogram for better display,Return image after stretching or shrinking its intensity levels\n",
    "hog_image_rescaled = exposure.rescale_intensity(imagehog, in_range=(0, 10))\n",
    "#ploting Hog image\n",
    "ax2.axis('off')\n",
    "ax2.imshow(imagehog, cmap=plt.cm.gray)\n",
    "ax2.set_title('Histogram of Oriented Gradients')\n",
    "#ploting Orignal image\n",
    "ax3.axis('off')\n",
    "ax3.imshow(cv2.cvtColor(img,cv2.COLOR_BGR2RGB), cmap=plt.cm.gray)\n",
    "ax3.set_title('Orignal Image')\n",
    "plt.show()\n",
    "# class predition of image using SVM\n",
    "Predicted_Class=classifier.predict(descriptor_pca)[0]\n",
    "print ('Predicted Class: ',Predicted_Class)\n",
    "\n",
    "ground_truth_image=cv2.imread('classes_images/'+str(Predicted_Class)+'.png')\n",
    "\n",
    "fig = plt.figure()\n",
    "#plt.imshow(cv2.cvtColor(ground_truth_image,cv2.COLOR_BGR2RGB), cmap=plt.cm.gray)\n",
    "fig.suptitle('Class Ground Truth Image')\n",
    "plt.show()"
   ]
  }
 ],
 "metadata": {
  "kernelspec": {
   "display_name": "traffic_sign",
   "language": "python",
   "name": "traffic_sign"
  },
  "language_info": {
   "codemirror_mode": {
    "name": "ipython",
    "version": 3
   },
   "file_extension": ".py",
   "mimetype": "text/x-python",
   "name": "python",
   "nbconvert_exporter": "python",
   "pygments_lexer": "ipython3",
   "version": "3.7.5"
  }
 },
 "nbformat": 4,
 "nbformat_minor": 2
}
